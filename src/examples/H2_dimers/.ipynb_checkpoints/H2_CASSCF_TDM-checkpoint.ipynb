{
 "cells": [
  {
   "cell_type": "code",
   "execution_count": 1,
   "id": "012a56c1-113d-4a30-a943-d00e3fd18da0",
   "metadata": {},
   "outputs": [],
   "source": [
    "import numpy as np\n",
    "import psi4\n",
    "psi4.core.set_output_file(\"H2_CASSCF_ccpVTZ.out\")"
   ]
  },
  {
   "cell_type": "code",
   "execution_count": 2,
   "id": "5f1678c8-b8d3-4d5e-99f8-641017a86ed0",
   "metadata": {},
   "outputs": [
    {
     "data": {
      "text/plain": [
       "-0.8892165901880564"
      ]
     },
     "execution_count": 2,
     "metadata": {},
     "output_type": "execute_result"
    }
   ],
   "source": [
    "mol_str = \"\"\"\n",
    "0 1\n",
    "H 0.0000000000   0.0000000000  -0.3713013354\n",
    "H 0.0000000000   0.0000000000   0.3713013354\n",
    "symmetry c1\n",
    "\"\"\"\n",
    "\n",
    "options_dict = {\n",
    "    \"basis\": \"cc-pVTZ\",\n",
    "    \"scf_type\": \"pk\",\n",
    "    \"e_convergence\": 1e-10,\n",
    "    \"d_convergence\": 1e-10,\n",
    "    'num_roots' : 3,\n",
    "    'frozen_docc' : [0],\n",
    "    \"active\" : [2],\n",
    "    \"avg_states\" : [0, 1],\n",
    "    \"avg_weights\" : [1, 1],\n",
    "    'TDM' :  True,\n",
    "    'OPDM': True,\n",
    "    'dipmom' : True\n",
    "}\n",
    "\n",
    "mol = psi4.geometry(mol_str)\n",
    "psi4.set_options(options_dict)\n",
    "scf_e, wfn = psi4.energy('SCF', return_wfn=True)\n",
    "fci_energy, wfn = psi4.energy('casscf',ref_wfn=wfn, return_wfn=True)\n",
    "props = ['DIPOLE', 'TRANSITION_DIPOLE']\n",
    "psi4.properties('casscf',properties=props)"
   ]
  },
  {
   "cell_type": "code",
   "execution_count": null,
   "id": "1a879878-8424-4c81-8c5f-4087d51f94b3",
   "metadata": {},
   "outputs": [],
   "source": []
  }
 ],
 "metadata": {
  "kernelspec": {
   "display_name": "Python 3 (ipykernel)",
   "language": "python",
   "name": "python3"
  },
  "language_info": {
   "codemirror_mode": {
    "name": "ipython",
    "version": 3
   },
   "file_extension": ".py",
   "mimetype": "text/x-python",
   "name": "python",
   "nbconvert_exporter": "python",
   "pygments_lexer": "ipython3",
   "version": "3.9.7"
  }
 },
 "nbformat": 4,
 "nbformat_minor": 5
}
