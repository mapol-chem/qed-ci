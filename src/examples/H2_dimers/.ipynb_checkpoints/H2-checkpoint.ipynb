{
 "cells": [
  {
   "cell_type": "code",
   "execution_count": null,
   "id": "a4d953fd",
   "metadata": {},
   "outputs": [],
   "source": [
    "import numpy as np\n",
    "from matplotlib import pyplot as plt\n",
    "import psi4"
   ]
  },
  {
   "cell_type": "code",
   "execution_count": null,
   "id": "986bed49",
   "metadata": {},
   "outputs": [],
   "source": [
    "mol_str = \"\"\"\n",
    "H\n",
    "H 1 1.0\n",
    "symmetry c1\n",
    "\"\"\"\n",
    "\n",
    "options_dict = {\n",
    "    \"basis\": \"cc-pVTZ\",\n",
    "    \"scf_type\": \"pk\",\n",
    "    \"e_convergence\": 1e-10,\n",
    "    \"d_convergence\": 1e-10,\n",
    "    'num_roots' : 5\n",
    "}\n",
    "\n",
    "mol = psi4.geometry(mol_str)\n",
    "psi4.set_options(options_dict)\n",
    "scf_e, wfn = psi4.energy('SCF', return_wfn=True)\n",
    "fci_energy, wfn = psi4.energy('fci',ref_wfn=wfn, return_wfn=True)\n"
   ]
  },
  {
   "cell_type": "code",
   "execution_count": null,
   "id": "0c685b85-eecd-45fd-a2f2-b50af752e70c",
   "metadata": {},
   "outputs": [],
   "source": [
    "scf_e, wfn = psi4.energy('SCF', return_wfn=True)\n",
    "fci_energy, wfn = psi4.energy('fci',ref_wfn=wfn, return_wfn=True)"
   ]
  },
  {
   "cell_type": "code",
   "execution_count": null,
   "id": "fe41aa2d-0072-46c3-a1c9-75ee891a97a1",
   "metadata": {},
   "outputs": [],
   "source": [
    "wfn.variables()"
   ]
  },
  {
   "cell_type": "code",
   "execution_count": null,
   "id": "76eb76e5-a40b-4ceb-9768-0246cf69f249",
   "metadata": {},
   "outputs": [],
   "source": [
    "mol_tmpl = \"\"\"\n",
    "H\n",
    "H 1 **R**\n",
    "symmetry c1\n",
    "\"\"\"\n",
    "\n",
    "options_dict = {\n",
    "    \"basis\": \"cc-pVQZ\",\n",
    "    \"scf_type\": \"pk\",\n",
    "    \"e_convergence\": 1e-10,\n",
    "    \"d_convergence\": 1e-10,\n",
    "    'num_roots' : 2\n",
    "}\n",
    "\n",
    "r_data = np.linspace(0.6, 1.85, 50)\n",
    "psi4.set_options(options_dict)\n",
    "\n",
    "fci_S0 = []\n",
    "fci_S1 = []\n",
    "for r in r_data:\n",
    "    mol_str = mol_tmpl.replace(\"**R**\", str(r))\n",
    "    mol = psi4.geometry(mol_str)\n",
    "    scf_e, wfn = psi4.energy('SCF', return_wfn=True)\n",
    "    fci_energy, wfn = psi4.energy('fci',ref_wfn=wfn, return_wfn=True)\n",
    "    fci_S0.append(wfn.variable(\"CI ROOT 0 TOTAL ENERGY\"))\n",
    "    fci_S1.append(wfn.variable(\"CI ROOT 1 TOTAL ENERGY\"))\n",
    "    \n",
    "    "
   ]
  },
  {
   "cell_type": "code",
   "execution_count": null,
   "id": "94d18124-8e75-4266-ba2f-c270fc8af02c",
   "metadata": {},
   "outputs": [],
   "source": [
    "plt.plot(r_data, np.array(fci_S0)+0.43, label=\"S0 + 0.43\")\n",
    "plt.plot(r_data, fci_S1, label=\"S1\")\n",
    "plt.legend()\n",
    "plt.ylim(-0.75, -0.65)"
   ]
  },
  {
   "cell_type": "code",
   "execution_count": null,
   "id": "84f3bc96-44ce-40c7-9376-1ef8c934e0ae",
   "metadata": {},
   "outputs": [],
   "source": []
  }
 ],
 "metadata": {
  "kernelspec": {
   "display_name": "Python 3 (ipykernel)",
   "language": "python",
   "name": "python3"
  },
  "language_info": {
   "codemirror_mode": {
    "name": "ipython",
    "version": 3
   },
   "file_extension": ".py",
   "mimetype": "text/x-python",
   "name": "python",
   "nbconvert_exporter": "python",
   "pygments_lexer": "ipython3",
   "version": "3.9.7"
  }
 },
 "nbformat": 4,
 "nbformat_minor": 5
}
