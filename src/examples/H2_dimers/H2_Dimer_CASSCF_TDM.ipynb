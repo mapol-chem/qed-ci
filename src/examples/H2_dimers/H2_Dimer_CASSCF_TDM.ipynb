{
 "cells": [
  {
   "cell_type": "code",
   "execution_count": 1,
   "id": "012a56c1-113d-4a30-a943-d00e3fd18da0",
   "metadata": {},
   "outputs": [],
   "source": [
    "import numpy as np\n",
    "import psi4\n",
    "psi4.core.set_output_file(\"H2_Dimer_CASSCF_ccpVTZ_SA_1_2.out\")"
   ]
  },
  {
   "cell_type": "code",
   "execution_count": 2,
   "id": "5f1678c8-b8d3-4d5e-99f8-641017a86ed0",
   "metadata": {},
   "outputs": [
    {
     "ename": "PsiException",
     "evalue": "MCSCF: Iterations did not converge!",
     "output_type": "error",
     "traceback": [
      "\u001b[0;31m---------------------------------------------------------------------------\u001b[0m",
      "\u001b[0;31mPsiException\u001b[0m                              Traceback (most recent call last)",
      "Cell \u001b[0;32mIn[2], line 30\u001b[0m\n\u001b[1;32m     28\u001b[0m psi4\u001b[38;5;241m.\u001b[39mset_options(options_dict)\n\u001b[1;32m     29\u001b[0m scf_e, wfn \u001b[38;5;241m=\u001b[39m psi4\u001b[38;5;241m.\u001b[39menergy(\u001b[38;5;124m'\u001b[39m\u001b[38;5;124mSCF\u001b[39m\u001b[38;5;124m'\u001b[39m, return_wfn\u001b[38;5;241m=\u001b[39m\u001b[38;5;28;01mTrue\u001b[39;00m)\n\u001b[0;32m---> 30\u001b[0m fci_energy, wfn \u001b[38;5;241m=\u001b[39m \u001b[43mpsi4\u001b[49m\u001b[38;5;241;43m.\u001b[39;49m\u001b[43menergy\u001b[49m\u001b[43m(\u001b[49m\u001b[38;5;124;43m'\u001b[39;49m\u001b[38;5;124;43mcasscf\u001b[39;49m\u001b[38;5;124;43m'\u001b[39;49m\u001b[43m,\u001b[49m\u001b[43mref_wfn\u001b[49m\u001b[38;5;241;43m=\u001b[39;49m\u001b[43mwfn\u001b[49m\u001b[43m,\u001b[49m\u001b[43m \u001b[49m\u001b[43mreturn_wfn\u001b[49m\u001b[38;5;241;43m=\u001b[39;49m\u001b[38;5;28;43;01mTrue\u001b[39;49;00m\u001b[43m)\u001b[49m\n\u001b[1;32m     31\u001b[0m props \u001b[38;5;241m=\u001b[39m [\u001b[38;5;124m'\u001b[39m\u001b[38;5;124mDIPOLE\u001b[39m\u001b[38;5;124m'\u001b[39m, \u001b[38;5;124m'\u001b[39m\u001b[38;5;124mTRANSITION_DIPOLE\u001b[39m\u001b[38;5;124m'\u001b[39m]\n\u001b[1;32m     32\u001b[0m psi4\u001b[38;5;241m.\u001b[39mproperties(\u001b[38;5;124m'\u001b[39m\u001b[38;5;124mcasscf\u001b[39m\u001b[38;5;124m'\u001b[39m,properties\u001b[38;5;241m=\u001b[39mprops)\n",
      "File \u001b[0;32m~/Code/psi4/objdir-Release/stage/lib/psi4/driver/driver.py:519\u001b[0m, in \u001b[0;36menergy\u001b[0;34m(name, **kwargs)\u001b[0m\n\u001b[1;32m    517\u001b[0m logger\u001b[38;5;241m.\u001b[39minfo(\u001b[38;5;124mf\u001b[39m\u001b[38;5;124m\"\u001b[39m\u001b[38;5;124mCompute energy(): method=\u001b[39m\u001b[38;5;132;01m{\u001b[39;00mlowername\u001b[38;5;132;01m}\u001b[39;00m\u001b[38;5;124m, basis=\u001b[39m\u001b[38;5;132;01m{\u001b[39;00mcore\u001b[38;5;241m.\u001b[39mget_global_option(\u001b[38;5;124m'\u001b[39m\u001b[38;5;124mBASIS\u001b[39m\u001b[38;5;124m'\u001b[39m)\u001b[38;5;241m.\u001b[39mlower()\u001b[38;5;132;01m}\u001b[39;00m\u001b[38;5;124m, molecule=\u001b[39m\u001b[38;5;132;01m{\u001b[39;00mmolecule\u001b[38;5;241m.\u001b[39mname()\u001b[38;5;132;01m}\u001b[39;00m\u001b[38;5;124m, nre=\u001b[39m\u001b[38;5;132;01m{\u001b[39;00m\u001b[38;5;124m'\u001b[39m\u001b[38;5;124mw/EFP\u001b[39m\u001b[38;5;124m'\u001b[39m\u001b[38;5;250m \u001b[39m\u001b[38;5;28;01mif\u001b[39;00m\u001b[38;5;250m \u001b[39m\u001b[38;5;28mhasattr\u001b[39m(molecule,\u001b[38;5;250m \u001b[39m\u001b[38;5;124m'\u001b[39m\u001b[38;5;124mEFP\u001b[39m\u001b[38;5;124m'\u001b[39m)\u001b[38;5;250m \u001b[39m\u001b[38;5;28;01melse\u001b[39;00m\u001b[38;5;250m \u001b[39mmolecule\u001b[38;5;241m.\u001b[39mnuclear_repulsion_energy()\u001b[38;5;132;01m}\u001b[39;00m\u001b[38;5;124m\"\u001b[39m)\n\u001b[1;32m    518\u001b[0m logger\u001b[38;5;241m.\u001b[39mdebug(\u001b[38;5;124m\"\u001b[39m\u001b[38;5;124mw/EFP\u001b[39m\u001b[38;5;124m\"\u001b[39m \u001b[38;5;28;01mif\u001b[39;00m \u001b[38;5;28mhasattr\u001b[39m(molecule, \u001b[38;5;124m\"\u001b[39m\u001b[38;5;124mEFP\u001b[39m\u001b[38;5;124m\"\u001b[39m) \u001b[38;5;28;01melse\u001b[39;00m pp\u001b[38;5;241m.\u001b[39mpformat(molecule\u001b[38;5;241m.\u001b[39mto_dict()))\n\u001b[0;32m--> 519\u001b[0m wfn \u001b[38;5;241m=\u001b[39m \u001b[43mprocedures\u001b[49m\u001b[43m[\u001b[49m\u001b[38;5;124;43m'\u001b[39;49m\u001b[38;5;124;43menergy\u001b[39;49m\u001b[38;5;124;43m'\u001b[39;49m\u001b[43m]\u001b[49m\u001b[43m[\u001b[49m\u001b[43mlowername\u001b[49m\u001b[43m]\u001b[49m\u001b[43m(\u001b[49m\u001b[43mlowername\u001b[49m\u001b[43m,\u001b[49m\u001b[43m \u001b[49m\u001b[43mmolecule\u001b[49m\u001b[38;5;241;43m=\u001b[39;49m\u001b[43mmolecule\u001b[49m\u001b[43m,\u001b[49m\u001b[43m \u001b[49m\u001b[38;5;241;43m*\u001b[39;49m\u001b[38;5;241;43m*\u001b[39;49m\u001b[43mkwargs\u001b[49m\u001b[43m)\u001b[49m\n\u001b[1;32m    520\u001b[0m logger\u001b[38;5;241m.\u001b[39minfo(\u001b[38;5;124mf\u001b[39m\u001b[38;5;124m\"\u001b[39m\u001b[38;5;124mReturn energy(): \u001b[39m\u001b[38;5;132;01m{\u001b[39;00mcore\u001b[38;5;241m.\u001b[39mvariable(\u001b[38;5;124m'\u001b[39m\u001b[38;5;124mCURRENT ENERGY\u001b[39m\u001b[38;5;124m'\u001b[39m)\u001b[38;5;132;01m}\u001b[39;00m\u001b[38;5;124m\"\u001b[39m)\n\u001b[1;32m    522\u001b[0m \u001b[38;5;28;01mfor\u001b[39;00m postcallback \u001b[38;5;129;01min\u001b[39;00m hooks[\u001b[38;5;124m'\u001b[39m\u001b[38;5;124menergy\u001b[39m\u001b[38;5;124m'\u001b[39m][\u001b[38;5;124m'\u001b[39m\u001b[38;5;124mpost\u001b[39m\u001b[38;5;124m'\u001b[39m]:\n",
      "File \u001b[0;32m~/Code/psi4/objdir-Release/stage/lib/psi4/driver/procrouting/proc.py:5478\u001b[0m, in \u001b[0;36mrun_detcas\u001b[0;34m(name, **kwargs)\u001b[0m\n\u001b[1;32m   5475\u001b[0m \u001b[38;5;28;01mif\u001b[39;00m core\u001b[38;5;241m.\u001b[39mget_option(\u001b[38;5;124m'\u001b[39m\u001b[38;5;124mDETCI\u001b[39m\u001b[38;5;124m'\u001b[39m, \u001b[38;5;124m'\u001b[39m\u001b[38;5;124mMCSCF_ALGORITHM\u001b[39m\u001b[38;5;124m'\u001b[39m) \u001b[38;5;129;01min\u001b[39;00m [\u001b[38;5;124m'\u001b[39m\u001b[38;5;124mAH\u001b[39m\u001b[38;5;124m'\u001b[39m, \u001b[38;5;124m'\u001b[39m\u001b[38;5;124mOS\u001b[39m\u001b[38;5;124m'\u001b[39m]:\n\u001b[1;32m   5476\u001b[0m     proc_util\u001b[38;5;241m.\u001b[39mcheck_non_symmetric_jk_density(\u001b[38;5;124m\"\u001b[39m\u001b[38;5;124mSecond-order MCSCF\u001b[39m\u001b[38;5;124m\"\u001b[39m)\n\u001b[0;32m-> 5478\u001b[0m ciwfn \u001b[38;5;241m=\u001b[39m \u001b[43mmcscf\u001b[49m\u001b[38;5;241;43m.\u001b[39;49m\u001b[43mmcscf_solver\u001b[49m\u001b[43m(\u001b[49m\u001b[43mref_wfn\u001b[49m\u001b[43m)\u001b[49m\n\u001b[1;32m   5480\u001b[0m \u001b[38;5;66;03m# We always would like to print a little dipole information\u001b[39;00m\n\u001b[1;32m   5481\u001b[0m oeprop \u001b[38;5;241m=\u001b[39m core\u001b[38;5;241m.\u001b[39mOEProp(ciwfn)\n",
      "File \u001b[0;32m~/Code/psi4/objdir-Release/stage/lib/psi4/driver/procrouting/mcscf/mcscf_solver.py:268\u001b[0m, in \u001b[0;36mmcscf_solver\u001b[0;34m(ref_wfn)\u001b[0m\n\u001b[1;32m    266\u001b[0m \u001b[38;5;28;01mif\u001b[39;00m (\u001b[38;5;129;01mnot\u001b[39;00m converged):\n\u001b[1;32m    267\u001b[0m     \u001b[38;5;28;01mif\u001b[39;00m core\u001b[38;5;241m.\u001b[39mget_global_option(\u001b[38;5;124m\"\u001b[39m\u001b[38;5;124mDIE_IF_NOT_CONVERGED\u001b[39m\u001b[38;5;124m\"\u001b[39m):\n\u001b[0;32m--> 268\u001b[0m         \u001b[38;5;28;01mraise\u001b[39;00m p4util\u001b[38;5;241m.\u001b[39mPsiException(\u001b[38;5;124m\"\u001b[39m\u001b[38;5;124mMCSCF: Iterations did not converge!\u001b[39m\u001b[38;5;124m\"\u001b[39m)\n\u001b[1;32m    269\u001b[0m     \u001b[38;5;28;01melse\u001b[39;00m:\n\u001b[1;32m    270\u001b[0m         core\u001b[38;5;241m.\u001b[39mprint_out(\u001b[38;5;124m\"\u001b[39m\u001b[38;5;130;01m\\n\u001b[39;00m\u001b[38;5;124mWarning! MCSCF iterations did not converge!\u001b[39m\u001b[38;5;130;01m\\n\u001b[39;00m\u001b[38;5;130;01m\\n\u001b[39;00m\u001b[38;5;124m\"\u001b[39m)\n",
      "\u001b[0;31mPsiException\u001b[0m: MCSCF: Iterations did not converge!"
     ]
    }
   ],
   "source": [
    "mol_str = \"\"\"\n",
    "0 1\n",
    "H 0.0000000000   0.0000000000  11999.62869866\n",
    "H 0.0000000000   0.0000000000  12000.37130134\n",
    "H 0.0000000000   0.0000000000 -12000.37130134\n",
    "H 0.0000000000   0.0000000000 -11999.62869866\n",
    "symmetry c1\n",
    "\"\"\"\n",
    "\n",
    "options_dict = {\n",
    "    \"basis\": \"cc-pVTZ\",\n",
    "    \"scf_type\": \"pk\",\n",
    "    \"e_convergence\": 1e-10,\n",
    "    \"d_convergence\": 1e-10,\n",
    "    'num_roots' : 6,\n",
    "    'frozen_docc' : [0],\n",
    "    \"active\" : [4],\n",
    "    \"avg_states\" : [0, 1, 2],\n",
    "    \"avg_weights\" : [0, 1, 1],\n",
    "    'TDM' :  True,\n",
    "    'OPDM': True,\n",
    "    'dipmom' : True,\n",
    "    \"mcscf_e_convergence\" : 1e-8,\n",
    "    \"mcscf_r_convergence\" : 1e-6\n",
    "}\n",
    "\n",
    "mol = psi4.geometry(mol_str)\n",
    "psi4.set_options(options_dict)\n",
    "scf_e, wfn = psi4.energy('SCF', return_wfn=True)\n",
    "fci_energy, wfn = psi4.energy('casscf',ref_wfn=wfn, return_wfn=True)\n",
    "props = ['DIPOLE', 'TRANSITION_DIPOLE']\n",
    "psi4.properties('casscf',properties=props)"
   ]
  },
  {
   "cell_type": "code",
   "execution_count": null,
   "id": "ff31c5a5-8efd-4bcf-a20e-76d1eb22a7c1",
   "metadata": {},
   "outputs": [],
   "source": [
    "E = np.array([-383.432630675633, -383.229174086435, -383.214958443052, -383.160173307314, -383.150441547330, -383.136370898717])\n",
    "omega_02 = E[2]-E[0]\n",
    "omega_05 = E[5]-E[0]\n",
    "\n",
    "print(omega_02)\n",
    "print(omega_05)"
   ]
  },
  {
   "cell_type": "code",
   "execution_count": null,
   "id": "1a879878-8424-4c81-8c5f-4087d51f94b3",
   "metadata": {},
   "outputs": [],
   "source": []
  }
 ],
 "metadata": {
  "kernelspec": {
   "display_name": "Python 3 (ipykernel)",
   "language": "python",
   "name": "python3"
  },
  "language_info": {
   "codemirror_mode": {
    "name": "ipython",
    "version": 3
   },
   "file_extension": ".py",
   "mimetype": "text/x-python",
   "name": "python",
   "nbconvert_exporter": "python",
   "pygments_lexer": "ipython3",
   "version": "3.9.18"
  }
 },
 "nbformat": 4,
 "nbformat_minor": 5
}
